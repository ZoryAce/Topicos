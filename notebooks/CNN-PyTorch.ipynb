{
  "cells": [
    {
      "cell_type": "markdown",
      "metadata": {
        "id": "view-in-github",
        "colab_type": "text"
      },
      "source": [
        "<a href=\"https://colab.research.google.com/github/ZoryAce/Topicos/blob/main/notebooks/CNN-PyTorch.ipynb\" target=\"_parent\"><img src=\"https://colab.research.google.com/assets/colab-badge.svg\" alt=\"Open In Colab\"/></a>"
      ]
    },
    {
      "cell_type": "markdown",
      "metadata": {
        "id": "Zc9lk1aImnKO"
      },
      "source": [
        "# Deep Computer Vision using Pytorch\n",
        "\n",
        "This section runs through the API for common tasks in machine learning.\n",
        "Refer to the links in each section to dive deeper.\n",
        "\n",
        "Working with data\n",
        "-----------------\n",
        "\n",
        "PyTorch has two [primitives to work with\n",
        "data](https://pytorch.org/docs/stable/data.html):\n",
        "`torch.utils.data.DataLoader` and `torch.utils.data.Dataset`. `Dataset`\n",
        "stores the samples and their corresponding labels, and `DataLoader`\n",
        "wraps an iterable around the `Dataset`.\n"
      ]
    },
    {
      "cell_type": "code",
      "source": [
        "%matplotlib inline"
      ],
      "metadata": {
        "id": "45yV1QUIziQj"
      },
      "execution_count": 1,
      "outputs": []
    },
    {
      "cell_type": "code",
      "source": [
        "import matplotlib.pyplot as plt\n",
        "\n",
        "plt.rc('font', size=14)\n",
        "plt.rc('axes', labelsize=14, titlesize=14)\n",
        "plt.rc('legend', fontsize=14)\n",
        "plt.rc('xtick', labelsize=10)\n",
        "plt.rc('ytick', labelsize=10)"
      ],
      "metadata": {
        "id": "6JpsmSKO1v_T"
      },
      "execution_count": 2,
      "outputs": []
    },
    {
      "cell_type": "code",
      "execution_count": 3,
      "metadata": {
        "id": "y-BuhipSmnKQ"
      },
      "outputs": [],
      "source": [
        "import torch\n",
        "from torch import nn\n",
        "from torch.utils.data import DataLoader\n",
        "from torchvision import datasets\n",
        "from torchvision.transforms import ToTensor"
      ]
    },
    {
      "cell_type": "markdown",
      "metadata": {
        "id": "NmG40l6omnKQ"
      },
      "source": [
        "PyTorch offers domain-specific libraries such as\n",
        "[TorchText](https://pytorch.org/text/stable/index.html),\n",
        "[TorchVision](https://pytorch.org/vision/stable/index.html), and\n",
        "[TorchAudio](https://pytorch.org/audio/stable/index.html), all of which\n",
        "include datasets. For this tutorial, we will be using a TorchVision\n",
        "dataset.\n",
        "\n",
        "The `torchvision.datasets` module contains `Dataset` objects for many\n",
        "real-world vision data like CIFAR, COCO ([full list\n",
        "here](https://pytorch.org/vision/stable/datasets.html)).\n",
        "\n",
        "Now, we use the FashionMNIST dataset. Every TorchVision `Dataset`\n",
        "includes two arguments: `transform` and `target_transform` to modify the\n",
        "samples and labels respectively.\n"
      ]
    },
    {
      "cell_type": "code",
      "execution_count": 4,
      "metadata": {
        "id": "tA_zsYIPmnKR",
        "colab": {
          "base_uri": "https://localhost:8080/"
        },
        "outputId": "539bfde8-e489-4112-b0ad-03b8e05f384d"
      },
      "outputs": [
        {
          "output_type": "stream",
          "name": "stderr",
          "text": [
            "100%|██████████| 26.4M/26.4M [00:02<00:00, 12.6MB/s]\n",
            "100%|██████████| 29.5k/29.5k [00:00<00:00, 200kB/s]\n",
            "100%|██████████| 4.42M/4.42M [00:01<00:00, 3.73MB/s]\n",
            "100%|██████████| 5.15k/5.15k [00:00<00:00, 8.57MB/s]\n"
          ]
        }
      ],
      "source": [
        "# Download training data from open datasets.\n",
        "training_data = datasets.FashionMNIST(\n",
        "    root=\"data\",\n",
        "    train=True,\n",
        "    download=True,\n",
        "    transform=ToTensor(),\n",
        ")\n",
        "\n",
        "# Download test data from open datasets.\n",
        "test_data = datasets.FashionMNIST(\n",
        "    root=\"data\",\n",
        "    train=False,\n",
        "    download=True,\n",
        "    transform=ToTensor(),\n",
        ")"
      ]
    },
    {
      "cell_type": "code",
      "source": [
        "plt.figure(figsize=(12, 8))\n",
        "for image_idx in (0, 1):\n",
        "    plt.subplot(1, 2, image_idx + 1)\n",
        "    plt.imshow(training_data[image_idx][0].squeeze(), cmap=\"binary\")\n",
        "    plt.axis(\"off\")\n",
        "\n",
        "plt.show()"
      ],
      "metadata": {
        "colab": {
          "base_uri": "https://localhost:8080/",
          "height": 459
        },
        "id": "rgCT3kto1d0E",
        "outputId": "8ba55843-e328-46cc-c7ed-a8844cdf4bdf"
      },
      "execution_count": 5,
      "outputs": [
        {
          "output_type": "display_data",
          "data": {
            "text/plain": [
              "<Figure size 1200x800 with 2 Axes>"
            ],
            "image/png": "[encoded data removed]"
          },
          "metadata": {}
        }
      ]
    },
    {
      "cell_type": "code",
      "source": [
        "plt.figure(figsize=(12, 8))\n",
        "for image_idx in range(1,10):\n",
        "    plt.subplot(1, 10, image_idx + 1)\n",
        "    plt.imshow(training_data[image_idx][0].squeeze(), cmap=\"binary\")\n",
        "    plt.axis(\"off\")\n",
        "\n",
        "plt.show()"
      ],
      "metadata": {
        "colab": {
          "base_uri": "https://localhost:8080/",
          "height": 115
        },
        "id": "oVdWiPWT2J1w",
        "outputId": "97d9f52c-2e9c-4bdd-ec1d-269e53729770"
      },
      "execution_count": 6,
      "outputs": [
        {
          "output_type": "display_data",
          "data": {
            "text/plain": [
              "<Figure size 1200x800 with 9 Axes>"
            ],
            "image/png": "[encoded data removed]"
          },
          "metadata": {}
        }
      ]
    },
    {
      "cell_type": "markdown",
      "metadata": {
        "id": "6VUHP9UXmnKR"
      },
      "source": [
        "We pass the `Dataset` as an argument to `DataLoader`. This wraps an\n",
        "iterable over our dataset, and supports automatic batching, sampling,\n",
        "shuffling and multiprocess data loading. Here we define a batch size of\n",
        "64, i.e. each element in the dataloader iterable will return a batch of\n",
        "64 features and labels.\n"
      ]
    },
    {
      "cell_type": "code",
      "source": [
        "training_data.classes"
      ],
      "metadata": {
        "id": "QSayK6XM0HxW",
        "outputId": "45629836-010a-49cd-8bdf-090634227af2",
        "colab": {
          "base_uri": "https://localhost:8080/"
        }
      },
      "execution_count": 7,
      "outputs": [
        {
          "output_type": "execute_result",
          "data": {
            "text/plain": [
              "['T-shirt/top',\n",
              " 'Trouser',\n",
              " 'Pullover',\n",
              " 'Dress',\n",
              " 'Coat',\n",
              " 'Sandal',\n",
              " 'Shirt',\n",
              " 'Sneaker',\n",
              " 'Bag',\n",
              " 'Ankle boot']"
            ]
          },
          "metadata": {},
          "execution_count": 7
        }
      ]
    },
    {
      "cell_type": "code",
      "execution_count": 8,
      "metadata": {
        "id": "48LUJtNwmnKS",
        "outputId": "00a0ff70-fd7d-43d6-9a58-0cba732567a1",
        "colab": {
          "base_uri": "https://localhost:8080/"
        }
      },
      "outputs": [
        {
          "output_type": "stream",
          "name": "stdout",
          "text": [
            "Shape of X [N, C, H, W]: torch.Size([64, 1, 28, 28])\n",
            "Shape of y: torch.Size([64]) torch.int64\n"
          ]
        }
      ],
      "source": [
        "batch_size = 64\n",
        "\n",
        "# Create data loaders.\n",
        "train_dataloader = DataLoader(training_data, batch_size=batch_size)\n",
        "test_dataloader = DataLoader(test_data, batch_size=batch_size)\n",
        "\n",
        "for X, y in test_dataloader:\n",
        "    print(f\"Shape of X [N, C, H, W]: {X.shape}\")\n",
        "    print(f\"Shape of y: {y.shape} {y.dtype}\")\n",
        "    break"
      ]
    },
    {
      "cell_type": "markdown",
      "metadata": {
        "id": "M9Nw-z1BmnKT"
      },
      "source": [
        "## Creating Models\n",
        "\n",
        "To define a neural network in PyTorch, we create a class that inherits\n",
        "from\n",
        "[nn.Module](https://pytorch.org/docs/stable/generated/torch.nn.Module.html).\n",
        "We define the layers of the network in the `__init__` function and\n",
        "specify how data will pass through the network in the `forward`\n",
        "function. To accelerate operations in the neural network, we move it to\n",
        "the GPU or MPS if available.\n"
      ]
    },
    {
      "cell_type": "code",
      "execution_count": 9,
      "metadata": {
        "id": "Fttj_QVdmnKT",
        "outputId": "5912bbc2-9839-48ed-d993-bf3a617096b3",
        "colab": {
          "base_uri": "https://localhost:8080/"
        }
      },
      "outputs": [
        {
          "output_type": "stream",
          "name": "stdout",
          "text": [
            "Using cuda device\n",
            "NeuralNetwork(\n",
            "  (flatten): Flatten(start_dim=1, end_dim=-1)\n",
            "  (linear_relu_stack): Sequential(\n",
            "    (0): Linear(in_features=784, out_features=512, bias=True)\n",
            "    (1): ReLU()\n",
            "    (2): Linear(in_features=512, out_features=512, bias=True)\n",
            "    (3): ReLU()\n",
            "    (4): Linear(in_features=512, out_features=10, bias=True)\n",
            "  )\n",
            ")\n"
          ]
        }
      ],
      "source": [
        "# Get cpu, gpu or mps device for training.\n",
        "device = (\n",
        "    \"cuda\"\n",
        "    if torch.cuda.is_available()\n",
        "    else \"mps\"\n",
        "    if torch.backends.mps.is_available()\n",
        "    else \"cpu\"\n",
        ")\n",
        "print(f\"Using {device} device\")\n",
        "\n",
        "# Define model\n",
        "class NeuralNetwork(nn.Module):\n",
        "    def __init__(self):\n",
        "        super().__init__()\n",
        "        self.flatten = nn.Flatten()\n",
        "        self.linear_relu_stack = nn.Sequential(#grupo de capas\n",
        "            nn.Linear(28*28, 512),#tamaño del array del flatten\n",
        "            nn.ReLU(),\n",
        "            nn.Linear(512, 512),#512 neuronas\n",
        "            nn.ReLU(),\n",
        "            nn.Linear(512, 10)#10neuronas debe ser softmax\n",
        "        )\n",
        "\n",
        "    def forward(self, x):\n",
        "        x = self.flatten(x)\n",
        "        logits = self.linear_relu_stack(x)\n",
        "        return logits\n",
        "\n",
        "model = NeuralNetwork().to(device)\n",
        "print(model)"
      ]
    },
    {
      "cell_type": "markdown",
      "metadata": {
        "id": "HecOP8G5mnKV"
      },
      "source": [
        "## Optimizing the Model Parameters\n",
        "\n",
        "To train a model, we need a [loss\n",
        "function](https://pytorch.org/docs/stable/nn.html#loss-functions) and an\n",
        "[optimizer](https://pytorch.org/docs/stable/optim.html).\n"
      ]
    },
    {
      "cell_type": "code",
      "execution_count": 10,
      "metadata": {
        "id": "u7us24MAmnKV"
      },
      "outputs": [],
      "source": [
        "loss_fn = nn.CrossEntropyLoss()\n",
        "optimizer = torch.optim.SGD(model.parameters(), lr=1e-3)"
      ]
    },
    {
      "cell_type": "markdown",
      "metadata": {
        "id": "K3Ysxd70mnKV"
      },
      "source": [
        "In a single training loop, the model makes predictions on the training\n",
        "dataset (fed to it in batches), and backpropagates the prediction error\n",
        "to adjust the model\\'s parameters.\n"
      ]
    },
    {
      "cell_type": "code",
      "execution_count": 11,
      "metadata": {
        "id": "NhYDGOZDmnKW"
      },
      "outputs": [],
      "source": [
        "def train(dataloader, model, loss_fn, optimizer):\n",
        "    size = len(dataloader.dataset)\n",
        "    model.train()\n",
        "    for batch, (X, y) in enumerate(dataloader):\n",
        "        X, y = X.to(device), y.to(device)\n",
        "\n",
        "        # Compute prediction error\n",
        "        pred = model(X)\n",
        "        loss = loss_fn(pred, y)\n",
        "\n",
        "        # Backpropagation\n",
        "        loss.backward()\n",
        "        optimizer.step()\n",
        "        optimizer.zero_grad()#vector de gradietes en 0 la siguiente iteracion no tenga gradientes actualizados\n",
        "\n",
        "        if batch % 100 == 0:\n",
        "            loss, current = loss.item(), (batch + 1) * len(X)\n",
        "            print(f\"loss: {loss:>7f}  [{current:>5d}/{size:>5d}]\")"
      ]
    },
    {
      "cell_type": "markdown",
      "metadata": {
        "id": "JiKCwlv5mnKW"
      },
      "source": [
        "We also check the model\\'s performance against the test dataset to\n",
        "ensure it is learning.\n"
      ]
    },
    {
      "cell_type": "code",
      "execution_count": 12,
      "metadata": {
        "id": "CTj-kdWomnKW"
      },
      "outputs": [],
      "source": [
        "def test(dataloader, model, loss_fn):\n",
        "    size = len(dataloader.dataset)\n",
        "    num_batches = len(dataloader)\n",
        "    model.eval()\n",
        "    test_loss, correct = 0, 0\n",
        "    with torch.no_grad():\n",
        "        for X, y in dataloader:\n",
        "            X, y = X.to(device), y.to(device)\n",
        "            pred = model(X)\n",
        "            test_loss += loss_fn(pred, y).item()\n",
        "            correct += (pred.argmax(1) == y).type(torch.float).sum().item()\n",
        "    test_loss /= num_batches\n",
        "    correct /= size\n",
        "    print(f\"Test Error: \\n Accuracy: {(100*correct):>0.1f}%, Avg loss: {test_loss:>8f} \\n\")"
      ]
    },
    {
      "cell_type": "markdown",
      "metadata": {
        "id": "DrWCmknzmnKX"
      },
      "source": [
        "The training process is conducted over several iterations (*epochs*).\n",
        "During each epoch, the model learns parameters to make better\n",
        "predictions. We print the model\\'s accuracy and loss at each epoch;\n",
        "we\\'d like to see the accuracy increase and the loss decrease with every\n",
        "epoch.\n"
      ]
    },
    {
      "cell_type": "code",
      "execution_count": 13,
      "metadata": {
        "id": "UmIiMx7nmnKX",
        "outputId": "9882fb40-a2a9-4bd9-ed9c-d4fca4def875",
        "colab": {
          "base_uri": "https://localhost:8080/"
        }
      },
      "outputs": [
        {
          "output_type": "stream",
          "name": "stdout",
          "text": [
            "Epoch 1\n",
            "-------------------------------\n",
            "loss: 2.297922  [   64/60000]\n",
            "loss: 2.291567  [ 6464/60000]\n",
            "loss: 2.272453  [12864/60000]\n",
            "loss: 2.270971  [19264/60000]\n",
            "loss: 2.255222  [25664/60000]\n",
            "loss: 2.227774  [32064/60000]\n",
            "loss: 2.237106  [38464/60000]\n",
            "loss: 2.200532  [44864/60000]\n",
            "loss: 2.209093  [51264/60000]\n",
            "loss: 2.170998  [57664/60000]\n",
            "Test Error: \n",
            " Accuracy: 43.3%, Avg loss: 2.167878 \n",
            "\n",
            "Epoch 2\n",
            "-------------------------------\n",
            "loss: 2.174208  [   64/60000]\n",
            "loss: 2.171395  [ 6464/60000]\n",
            "loss: 2.116001  [12864/60000]\n",
            "loss: 2.135309  [19264/60000]\n",
            "loss: 2.091315  [25664/60000]\n",
            "loss: 2.029670  [32064/60000]\n",
            "loss: 2.063067  [38464/60000]\n",
            "loss: 1.982379  [44864/60000]\n",
            "loss: 2.000699  [51264/60000]\n",
            "loss: 1.924827  [57664/60000]\n",
            "Test Error: \n",
            " Accuracy: 57.2%, Avg loss: 1.920310 \n",
            "\n",
            "Epoch 3\n",
            "-------------------------------\n",
            "loss: 1.941751  [   64/60000]\n",
            "loss: 1.924681  [ 6464/60000]\n",
            "loss: 1.806991  [12864/60000]\n",
            "loss: 1.856201  [19264/60000]\n",
            "loss: 1.755145  [25664/60000]\n",
            "loss: 1.686017  [32064/60000]\n",
            "loss: 1.719535  [38464/60000]\n",
            "loss: 1.603038  [44864/60000]\n",
            "loss: 1.642010  [51264/60000]\n",
            "loss: 1.534272  [57664/60000]\n",
            "Test Error: \n",
            " Accuracy: 60.9%, Avg loss: 1.542854 \n",
            "\n",
            "Epoch 4\n",
            "-------------------------------\n",
            "loss: 1.594074  [   64/60000]\n",
            "loss: 1.568171  [ 6464/60000]\n",
            "loss: 1.408482  [12864/60000]\n",
            "loss: 1.498420  [19264/60000]\n",
            "loss: 1.383031  [25664/60000]\n",
            "loss: 1.353860  [32064/60000]\n",
            "loss: 1.380005  [38464/60000]\n",
            "loss: 1.284313  [44864/60000]\n",
            "loss: 1.336415  [51264/60000]\n",
            "loss: 1.233971  [57664/60000]\n",
            "Test Error: \n",
            " Accuracy: 63.1%, Avg loss: 1.254611 \n",
            "\n",
            "Epoch 5\n",
            "-------------------------------\n",
            "loss: 1.319901  [   64/60000]\n",
            "loss: 1.308094  [ 6464/60000]\n",
            "loss: 1.132224  [12864/60000]\n",
            "loss: 1.260080  [19264/60000]\n",
            "loss: 1.140356  [25664/60000]\n",
            "loss: 1.144192  [32064/60000]\n",
            "loss: 1.175414  [38464/60000]\n",
            "loss: 1.095120  [44864/60000]\n",
            "loss: 1.150058  [51264/60000]\n",
            "loss: 1.065511  [57664/60000]\n",
            "Test Error: \n",
            " Accuracy: 64.3%, Avg loss: 1.081970 \n",
            "\n",
            "Done!\n"
          ]
        }
      ],
      "source": [
        "epochs = 5\n",
        "for t in range(epochs):\n",
        "    print(f\"Epoch {t+1}\\n-------------------------------\")\n",
        "    train(train_dataloader, model, loss_fn, optimizer)\n",
        "    test(test_dataloader, model, loss_fn)\n",
        "print(\"Done!\")"
      ]
    },
    {
      "cell_type": "markdown",
      "metadata": {
        "id": "wrZoMvOgmnKY"
      },
      "source": [
        "## Saving Models\n",
        "\n",
        "A common way to save a model is to serialize the internal state\n",
        "dictionary (containing the model parameters).\n"
      ]
    },
    {
      "cell_type": "code",
      "execution_count": 14,
      "metadata": {
        "id": "2JfP4789mnKZ",
        "outputId": "3fed397d-3146-42ea-8f80-ae60a813028a",
        "colab": {
          "base_uri": "https://localhost:8080/"
        }
      },
      "outputs": [
        {
          "output_type": "stream",
          "name": "stdout",
          "text": [
            "Saved PyTorch Model State to model.pth\n"
          ]
        }
      ],
      "source": [
        "torch.save(model.state_dict(), \"model.pth\")\n",
        "print(\"Saved PyTorch Model State to model.pth\")"
      ]
    },
    {
      "cell_type": "markdown",
      "metadata": {
        "id": "QTft8RtZmnKZ"
      },
      "source": [
        "## Loading Models\n",
        "\n",
        "The process for loading a model includes re-creating the model structure\n",
        "and loading the state dictionary into it.\n"
      ]
    },
    {
      "cell_type": "code",
      "execution_count": 15,
      "metadata": {
        "id": "xh4xx5yEmnKZ",
        "outputId": "6a0d68c5-ebe3-4135-9bb2-ea43da32fc16",
        "colab": {
          "base_uri": "https://localhost:8080/"
        }
      },
      "outputs": [
        {
          "output_type": "execute_result",
          "data": {
            "text/plain": [
              "<All keys matched successfully>"
            ]
          },
          "metadata": {},
          "execution_count": 15
        }
      ],
      "source": [
        "model = NeuralNetwork().to(device)\n",
        "model.load_state_dict(torch.load(\"model.pth\", weights_only=True))"
      ]
    },
    {
      "cell_type": "markdown",
      "metadata": {
        "id": "CMo5j6urmnKa"
      },
      "source": [
        "This model can now be used to make predictions.\n"
      ]
    },
    {
      "cell_type": "code",
      "execution_count": 16,
      "metadata": {
        "id": "Ld9XOSK2mnKa",
        "outputId": "392ed7af-244d-4867-bba7-6183875c755a",
        "colab": {
          "base_uri": "https://localhost:8080/"
        }
      },
      "outputs": [
        {
          "output_type": "stream",
          "name": "stdout",
          "text": [
            "Predicted: \"Ankle boot\", Actual: \"Ankle boot\"\n"
          ]
        }
      ],
      "source": [
        "classes = [\n",
        "    \"T-shirt/top\",\n",
        "    \"Trouser\",\n",
        "    \"Pullover\",\n",
        "    \"Dress\",\n",
        "    \"Coat\",\n",
        "    \"Sandal\",\n",
        "    \"Shirt\",\n",
        "    \"Sneaker\",\n",
        "    \"Bag\",\n",
        "    \"Ankle boot\",\n",
        "]\n",
        "\n",
        "model.eval()\n",
        "x, y = test_data[0][0], test_data[0][1]\n",
        "with torch.no_grad():\n",
        "    x = x.to(device)\n",
        "    pred = model(x)\n",
        "    predicted, actual = classes[pred[0].argmax(0)], classes[y]\n",
        "    print(f'Predicted: \"{predicted}\", Actual: \"{actual}\"')"
      ]
    },
    {
      "cell_type": "markdown",
      "source": [
        "## Convolutional Neural Network"
      ],
      "metadata": {
        "id": "KkWxHobE2YjZ"
      }
    },
    {
      "cell_type": "code",
      "source": [
        "import torch\n",
        "import torch.nn as nn\n",
        "import torch.nn.functional as F\n",
        "\n",
        "# Define model\n",
        "class ConvNet(nn.Module):\n",
        "    def __init__(self):\n",
        "        super(ConvNet, self).__init__()\n",
        "        # Convolutional layers\n",
        "        self.conv1 = nn.Conv2d(in_channels=1, out_channels=64, kernel_size=7, padding=3)\n",
        "        self.conv2 = nn.Conv2d(in_channels=64, out_channels=128, kernel_size=3, padding=1)\n",
        "        self.conv3 = nn.Conv2d(in_channels=128, out_channels=128, kernel_size=3, padding=1)\n",
        "        self.conv4 = nn.Conv2d(in_channels=128, out_channels=256, kernel_size=3, padding=1)\n",
        "        self.conv5 = nn.Conv2d(in_channels=256, out_channels=256, kernel_size=3, padding=1)\n",
        "        # Pooling layer\n",
        "        self.pool = nn.MaxPool2d(kernel_size=2, stride=2)\n",
        "        # Fully connected layers\n",
        "        self.fc1 = nn.Linear(in_features=256 * 3 * 3, out_features=128)  # Adapt input size if necessary\n",
        "        self.fc2 = nn.Linear(in_features=128, out_features=64)\n",
        "        self.fc3 = nn.Linear(in_features=64, out_features=10)\n",
        "        # Dropout layer\n",
        "        self.dropout = nn.Dropout(0.5)\n",
        "\n",
        "    def forward(self, x):\n",
        "        # Convolutional and pooling layers\n",
        "        x = F.relu(self.conv1(x))\n",
        "        x = self.pool(x)\n",
        "        x = F.relu(self.conv2(x))\n",
        "        x = F.relu(self.conv3(x))\n",
        "        x = self.pool(x)\n",
        "        x = F.relu(self.conv4(x))\n",
        "        x = F.relu(self.conv5(x))\n",
        "        x = self.pool(x)\n",
        "        # Flatten the output\n",
        "        x = torch.flatten(x, 1)\n",
        "        # Fully connected layers with dropout\n",
        "        x = F.relu(self.fc1(x))\n",
        "        x = self.dropout(x)\n",
        "        x = F.relu(self.fc2(x))\n",
        "        x = self.dropout(x)\n",
        "        # Output layer\n",
        "        x = self.fc3(x)\n",
        "        return x\n"
      ],
      "metadata": {
        "id": "ABTmxusT2cSa"
      },
      "execution_count": 17,
      "outputs": []
    },
    {
      "cell_type": "code",
      "source": [
        "# Instantiate and print the model\n",
        "device = torch.device(\"cuda\" if torch.cuda.is_available() else \"cpu\")\n",
        "model = ConvNet().to(device)\n",
        "print(model)"
      ],
      "metadata": {
        "colab": {
          "base_uri": "https://localhost:8080/"
        },
        "id": "2yb7q6ua3L_y",
        "outputId": "076e16e2-62b0-476f-8986-1f3d99384e66"
      },
      "execution_count": 18,
      "outputs": [
        {
          "output_type": "stream",
          "name": "stdout",
          "text": [
            "ConvNet(\n",
            "  (conv1): Conv2d(1, 64, kernel_size=(7, 7), stride=(1, 1), padding=(3, 3))\n",
            "  (conv2): Conv2d(64, 128, kernel_size=(3, 3), stride=(1, 1), padding=(1, 1))\n",
            "  (conv3): Conv2d(128, 128, kernel_size=(3, 3), stride=(1, 1), padding=(1, 1))\n",
            "  (conv4): Conv2d(128, 256, kernel_size=(3, 3), stride=(1, 1), padding=(1, 1))\n",
            "  (conv5): Conv2d(256, 256, kernel_size=(3, 3), stride=(1, 1), padding=(1, 1))\n",
            "  (pool): MaxPool2d(kernel_size=2, stride=2, padding=0, dilation=1, ceil_mode=False)\n",
            "  (fc1): Linear(in_features=2304, out_features=128, bias=True)\n",
            "  (fc2): Linear(in_features=128, out_features=64, bias=True)\n",
            "  (fc3): Linear(in_features=64, out_features=10, bias=True)\n",
            "  (dropout): Dropout(p=0.5, inplace=False)\n",
            ")\n"
          ]
        }
      ]
    },
    {
      "cell_type": "code",
      "source": [
        "epochs = 10\n",
        "for t in range(epochs):\n",
        "    print(f\"Epoch {t+1}\\n-------------------------------\")\n",
        "    train(train_dataloader, model, loss_fn, optimizer)\n",
        "    test(test_dataloader, model, loss_fn)\n",
        "print(\"Done!\")"
      ],
      "metadata": {
        "colab": {
          "base_uri": "https://localhost:8080/"
        },
        "id": "asLQJDxe3QLU",
        "outputId": "c579a2db-5812-49c1-988a-c503bd5b136e"
      },
      "execution_count": 19,
      "outputs": [
        {
          "output_type": "stream",
          "name": "stdout",
          "text": [
            "Epoch 1\n",
            "-------------------------------\n",
            "loss: 2.300774  [   64/60000]\n",
            "loss: 2.305492  [ 6464/60000]\n",
            "loss: 2.309287  [12864/60000]\n",
            "loss: 2.300490  [19264/60000]\n",
            "loss: 2.318086  [25664/60000]\n",
            "loss: 2.311104  [32064/60000]\n",
            "loss: 2.299732  [38464/60000]\n",
            "loss: 2.312932  [44864/60000]\n",
            "loss: 2.301224  [51264/60000]\n",
            "loss: 2.309359  [57664/60000]\n",
            "Test Error: \n",
            " Accuracy: 10.0%, Avg loss: 2.305350 \n",
            "\n",
            "Epoch 2\n",
            "-------------------------------\n",
            "loss: 2.298944  [   64/60000]\n",
            "loss: 2.294247  [ 6464/60000]\n",
            "loss: 2.306292  [12864/60000]\n",
            "loss: 2.297127  [19264/60000]\n",
            "loss: 2.315254  [25664/60000]\n",
            "loss: 2.307476  [32064/60000]\n",
            "loss: 2.305571  [38464/60000]\n",
            "loss: 2.313572  [44864/60000]\n",
            "loss: 2.300166  [51264/60000]\n",
            "loss: 2.317186  [57664/60000]\n",
            "Test Error: \n",
            " Accuracy: 10.0%, Avg loss: 2.305350 \n",
            "\n",
            "Epoch 3\n",
            "-------------------------------\n",
            "loss: 2.298748  [   64/60000]\n",
            "loss: 2.303972  [ 6464/60000]\n",
            "loss: 2.307654  [12864/60000]\n",
            "loss: 2.300053  [19264/60000]\n",
            "loss: 2.313392  [25664/60000]\n",
            "loss: 2.307559  [32064/60000]\n",
            "loss: 2.305880  [38464/60000]\n",
            "loss: 2.311152  [44864/60000]\n",
            "loss: 2.298750  [51264/60000]\n",
            "loss: 2.312399  [57664/60000]\n",
            "Test Error: \n",
            " Accuracy: 10.0%, Avg loss: 2.305350 \n",
            "\n",
            "Epoch 4\n",
            "-------------------------------\n",
            "loss: 2.300750  [   64/60000]\n",
            "loss: 2.297999  [ 6464/60000]\n",
            "loss: 2.304575  [12864/60000]\n",
            "loss: 2.300591  [19264/60000]\n",
            "loss: 2.314939  [25664/60000]\n",
            "loss: 2.309549  [32064/60000]\n",
            "loss: 2.301600  [38464/60000]\n",
            "loss: 2.311230  [44864/60000]\n",
            "loss: 2.297454  [51264/60000]\n",
            "loss: 2.315002  [57664/60000]\n",
            "Test Error: \n",
            " Accuracy: 10.0%, Avg loss: 2.305350 \n",
            "\n",
            "Epoch 5\n",
            "-------------------------------\n",
            "loss: 2.305460  [   64/60000]\n",
            "loss: 2.303967  [ 6464/60000]\n",
            "loss: 2.301157  [12864/60000]\n",
            "loss: 2.304288  [19264/60000]\n",
            "loss: 2.317776  [25664/60000]\n",
            "loss: 2.307751  [32064/60000]\n",
            "loss: 2.295877  [38464/60000]\n",
            "loss: 2.309411  [44864/60000]\n",
            "loss: 2.294423  [51264/60000]\n",
            "loss: 2.313519  [57664/60000]\n",
            "Test Error: \n",
            " Accuracy: 10.0%, Avg loss: 2.305350 \n",
            "\n",
            "Epoch 6\n",
            "-------------------------------\n",
            "loss: 2.299980  [   64/60000]\n",
            "loss: 2.296915  [ 6464/60000]\n",
            "loss: 2.303234  [12864/60000]\n",
            "loss: 2.297612  [19264/60000]\n",
            "loss: 2.308673  [25664/60000]\n",
            "loss: 2.306253  [32064/60000]\n",
            "loss: 2.303481  [38464/60000]\n",
            "loss: 2.313375  [44864/60000]\n",
            "loss: 2.297853  [51264/60000]\n",
            "loss: 2.312354  [57664/60000]\n",
            "Test Error: \n",
            " Accuracy: 10.0%, Avg loss: 2.305350 \n",
            "\n",
            "Epoch 7\n",
            "-------------------------------\n",
            "loss: 2.301858  [   64/60000]\n",
            "loss: 2.303447  [ 6464/60000]\n",
            "loss: 2.305015  [12864/60000]\n",
            "loss: 2.304137  [19264/60000]\n",
            "loss: 2.313951  [25664/60000]\n",
            "loss: 2.306503  [32064/60000]\n",
            "loss: 2.302543  [38464/60000]\n",
            "loss: 2.307232  [44864/60000]\n",
            "loss: 2.294301  [51264/60000]\n",
            "loss: 2.308777  [57664/60000]\n",
            "Test Error: \n",
            " Accuracy: 10.0%, Avg loss: 2.305350 \n",
            "\n",
            "Epoch 8\n",
            "-------------------------------\n",
            "loss: 2.305144  [   64/60000]\n",
            "loss: 2.297444  [ 6464/60000]\n",
            "loss: 2.306037  [12864/60000]\n",
            "loss: 2.297637  [19264/60000]\n",
            "loss: 2.314829  [25664/60000]\n",
            "loss: 2.311255  [32064/60000]\n",
            "loss: 2.300998  [38464/60000]\n",
            "loss: 2.308048  [44864/60000]\n",
            "loss: 2.292910  [51264/60000]\n",
            "loss: 2.312221  [57664/60000]\n",
            "Test Error: \n",
            " Accuracy: 10.0%, Avg loss: 2.305350 \n",
            "\n",
            "Epoch 9\n",
            "-------------------------------\n",
            "loss: 2.304852  [   64/60000]\n",
            "loss: 2.301625  [ 6464/60000]\n",
            "loss: 2.307364  [12864/60000]\n",
            "loss: 2.301406  [19264/60000]\n",
            "loss: 2.315161  [25664/60000]\n",
            "loss: 2.313020  [32064/60000]\n",
            "loss: 2.298301  [38464/60000]\n",
            "loss: 2.308989  [44864/60000]\n",
            "loss: 2.293688  [51264/60000]\n",
            "loss: 2.309937  [57664/60000]\n",
            "Test Error: \n",
            " Accuracy: 10.0%, Avg loss: 2.305350 \n",
            "\n",
            "Epoch 10\n",
            "-------------------------------\n",
            "loss: 2.300018  [   64/60000]\n",
            "loss: 2.299208  [ 6464/60000]\n",
            "loss: 2.301660  [12864/60000]\n",
            "loss: 2.304292  [19264/60000]\n",
            "loss: 2.316013  [25664/60000]\n",
            "loss: 2.307068  [32064/60000]\n",
            "loss: 2.299168  [38464/60000]\n",
            "loss: 2.308573  [44864/60000]\n",
            "loss: 2.304045  [51264/60000]\n",
            "loss: 2.310712  [57664/60000]\n",
            "Test Error: \n",
            " Accuracy: 10.0%, Avg loss: 2.305350 \n",
            "\n",
            "Done!\n"
          ]
        }
      ]
    },
    {
      "cell_type": "code",
      "source": [],
      "metadata": {
        "id": "ym_EWx4k3fmT"
      },
      "execution_count": 19,
      "outputs": []
    }
  ],
  "metadata": {
    "kernelspec": {
      "display_name": "Python 3",
      "name": "python3"
    },
    "language_info": {
      "codemirror_mode": {
        "name": "ipython",
        "version": 3
      },
      "file_extension": ".py",
      "mimetype": "text/x-python",
      "name": "python",
      "nbconvert_exporter": "python",
      "pygments_lexer": "ipython3",
      "version": "3.10.14"
    },
    "colab": {
      "provenance": [],
      "gpuType": "T4",
      "include_colab_link": true
    },
    "accelerator": "GPU"
  },
  "nbformat": 4,
  "nbformat_minor": 0
}